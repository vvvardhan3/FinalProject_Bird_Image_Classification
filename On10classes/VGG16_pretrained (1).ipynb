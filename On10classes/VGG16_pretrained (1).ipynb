{
  "cells": [
    {
      "cell_type": "code",
      "source": [
        "import tensorflow as tf\n",
        "from tensorflow.keras.preprocessing.image import ImageDataGenerator\n",
        "from tensorflow.keras.applications.vgg16 import VGG16, preprocess_input\n",
        "from tensorflow.keras.models import Sequential\n",
        "from tensorflow.keras.layers import Flatten, Dense, Dropout\n",
        "from tensorflow.keras.optimizers import Adam\n",
        "from sklearn.metrics import classification_report, confusion_matrix\n",
        "import numpy as np"
      ],
      "metadata": {
        "id": "ieIpxN8Yc7Dy"
      },
      "execution_count": 2,
      "outputs": []
    },
    {
      "cell_type": "code",
      "execution_count": 3,
      "metadata": {
        "colab": {
          "base_uri": "https://localhost:8080/"
        },
        "id": "JNKKJ2ZCysKh",
        "outputId": "0ef7f35d-66b4-4b03-ea3a-a8ce107f286a"
      },
      "outputs": [
        {
          "output_type": "stream",
          "name": "stdout",
          "text": [
            "Downloading data from https://storage.googleapis.com/tensorflow/keras-applications/vgg16/vgg16_weights_tf_dim_ordering_tf_kernels_notop.h5\n",
            "58889256/58889256 [==============================] - 0s 0us/step\n",
            "Found 432 images belonging to 10 classes.\n",
            "Found 111 images belonging to 10 classes.\n",
            "Epoch 1/5\n",
            "14/14 [==============================] - 248s 17s/step - loss: 29.0778 - accuracy: 0.3935\n",
            "Epoch 2/5\n",
            "14/14 [==============================] - 230s 16s/step - loss: 1.7586 - accuracy: 0.9028\n",
            "Epoch 3/5\n",
            "14/14 [==============================] - 230s 16s/step - loss: 0.3832 - accuracy: 0.9699\n",
            "Epoch 4/5\n",
            "14/14 [==============================] - 228s 16s/step - loss: 0.2287 - accuracy: 0.9815\n",
            "Epoch 5/5\n",
            "14/14 [==============================] - 230s 16s/step - loss: 0.0158 - accuracy: 0.9954\n"
          ]
        }
      ],
      "source": [
        "base_model = VGG16(weights='imagenet', include_top=False, input_shape=(224, 224, 3))\n",
        "\n",
        "# data generator for train and test data\n",
        "train_datagen = ImageDataGenerator(preprocessing_function=preprocess_input)\n",
        "test_datagen = ImageDataGenerator(preprocessing_function=preprocess_input)\n",
        "\n",
        "train_dir = '/content/drive/MyDrive/10Classes/train'\n",
        "test_dir = '/content/drive/MyDrive/10Classes/test'\n",
        "\n",
        "train_generator = train_datagen.flow_from_directory(\n",
        "    train_dir,\n",
        "    target_size=(224, 224),\n",
        "    batch_size=32,\n",
        "    class_mode='categorical',\n",
        "    shuffle=True\n",
        ")\n",
        "\n",
        "test_generator = test_datagen.flow_from_directory(\n",
        "    test_dir,\n",
        "    target_size=(224, 224),\n",
        "    batch_size=32,\n",
        "    class_mode='categorical',\n",
        "    shuffle=False\n",
        ")\n",
        "\n",
        "# Create the classifier model\n",
        "model = Sequential()\n",
        "model.add(base_model)\n",
        "model.add(Flatten())\n",
        "model.add(Dense(256, activation='relu'))\n",
        "model.add(Dense(10, activation='softmax'))\n",
        "\n",
        "# Freeze the base model's layers\n",
        "base_model.trainable = False\n",
        "\n",
        "model.compile(loss='categorical_crossentropy', optimizer=Adam(), metrics=['accuracy'])\n",
        "\n",
        "model_vgg = model.fit(train_generator, steps_per_epoch=len(train_generator), epochs=5)"
      ]
    },
    {
      "cell_type": "code",
      "source": [
        "\n",
        "# Evaluate the model on the test set\n",
        "y_pred = model.predict(test_generator)\n",
        "y_pred = np.argmax(y_pred, axis=1)  # Get the index of the max value\n",
        "\n",
        "# Get the true labels for the test set\n",
        "y_true = test_generator.classes\n",
        "\n",
        "# Calculate the confusion matrix and classification report\n",
        "cm = confusion_matrix(y_true, y_pred)\n",
        "print('Confusion Matrix:')\n",
        "print(cm)\n",
        "\n",
        "class_names = list(train_generator.class_indices.keys())\n",
        "report = classification_report(y_true, y_pred, target_names=class_names)\n",
        "print('Classification Report:')\n",
        "print(report)\n"
      ],
      "metadata": {
        "id": "XYh-aygTiY_p",
        "colab": {
          "base_uri": "https://localhost:8080/"
        },
        "outputId": "39eb6a37-4d7f-45d9-b755-e7ca8b4cdc3a"
      },
      "execution_count": 4,
      "outputs": [
        {
          "output_type": "stream",
          "name": "stdout",
          "text": [
            "4/4 [==============================] - 59s 14s/step\n",
            "Confusion Matrix:\n",
            "[[ 8  0  2  0  0  0  0  2  0  0]\n",
            " [ 3  9  0  0  0  0  0  0  0  0]\n",
            " [ 3  3  6  0  0  0  0  0  0  0]\n",
            " [ 0  0  0 11  0  0  0  0  0  1]\n",
            " [ 0  0  0  0  2  1  5  1  0  0]\n",
            " [ 0  0  1  0  0  8  0  0  0  0]\n",
            " [ 0  0  0  0  1  3  7  0  0  0]\n",
            " [ 1  0  0  0  1  0  0  8  0  0]\n",
            " [ 0  0  0  2  0  0  0  4  5  1]\n",
            " [ 0  0  0  0  0  0  0  0  0 12]]\n",
            "Classification Report:\n",
            "                            precision    recall  f1-score   support\n",
            "\n",
            "001.Black_footed_Albatross       0.53      0.67      0.59        12\n",
            "      002.Laysan_Albatross       0.75      0.75      0.75        12\n",
            "       003.Sooty_Albatross       0.67      0.50      0.57        12\n",
            "     004.Groove_billed_Ani       0.85      0.92      0.88        12\n",
            "        005.Crested_Auklet       0.50      0.22      0.31         9\n",
            "          006.Least_Auklet       0.67      0.89      0.76         9\n",
            "       007.Parakeet_Auklet       0.58      0.64      0.61        11\n",
            "     008.Rhinoceros_Auklet       0.53      0.80      0.64        10\n",
            "      009.Brewer_Blackbird       1.00      0.42      0.59        12\n",
            "  010.Red_winged_Blackbird       0.86      1.00      0.92        12\n",
            "\n",
            "                  accuracy                           0.68       111\n",
            "                 macro avg       0.69      0.68      0.66       111\n",
            "              weighted avg       0.70      0.68      0.67       111\n",
            "\n"
          ]
        }
      ]
    },
    {
      "cell_type": "code",
      "source": [
        "import tensorflow as tf\n",
        "from tensorflow.keras.applications.vgg16 import VGG16\n",
        "from tensorflow.keras.models import Model\n",
        "import numpy as np\n",
        "from keras.applications.vgg16 import preprocess_input\n",
        "from keras.preprocessing.image import ImageDataGenerator\n",
        "from keras.models import Sequential\n",
        "from keras.layers import Dense, Flatten\n",
        "from keras.optimizers import Adam\n",
        "from sklearn.metrics import classification_report, confusion_matrix"
      ],
      "metadata": {
        "id": "nn1JRY9UiqF3"
      },
      "execution_count": 5,
      "outputs": []
    },
    {
      "cell_type": "code",
      "execution_count": 7,
      "metadata": {
        "id": "fPqP7tqUy_xF",
        "colab": {
          "base_uri": "https://localhost:8080/"
        },
        "outputId": "9883fa1b-9941-4ce6-db39-c38c4a771977"
      },
      "outputs": [
        {
          "output_type": "stream",
          "name": "stdout",
          "text": [
            "Found 432 images belonging to 10 classes.\n",
            "Found 111 images belonging to 10 classes.\n",
            "14/14 [==============================] - 240s 17s/step\n",
            "4/4 [==============================] - 59s 14s/step\n"
          ]
        }
      ],
      "source": [
        "\n",
        "train_datagen = ImageDataGenerator(preprocessing_function=preprocess_input)\n",
        "test_datagen = ImageDataGenerator(preprocessing_function=preprocess_input)\n",
        "\n",
        "train_dir = '/content/drive/MyDrive/10Classes/train'\n",
        "test_dir =  '/content/drive/MyDrive/10Classes/test'\n",
        "\n",
        "train_generator = train_datagen.flow_from_directory(\n",
        "    train_dir,\n",
        "    target_size=(224, 224),\n",
        "    batch_size=32,\n",
        "    class_mode='categorical',\n",
        "    shuffle=True\n",
        ")\n",
        "\n",
        "test_generator = test_datagen.flow_from_directory(\n",
        "    test_dir,\n",
        "    target_size=(224, 224),\n",
        "    batch_size=32,\n",
        "    class_mode='categorical',\n",
        "    shuffle=False\n",
        ")\n",
        "\n",
        "feature_extractor = Model(inputs=base_model.input, outputs=base_model.get_layer('block5_pool').output)\n",
        "# feature_extractor = Model(inputs=model.input, outputs=model.get_layer('dense_1').output)\n",
        "\n",
        "# Extract features from the train and test data\n",
        "train_features = feature_extractor.predict(train_generator)\n",
        "test_features = feature_extractor.predict(test_generator)\n"
      ]
    },
    {
      "cell_type": "code",
      "execution_count": 8,
      "metadata": {
        "id": "039-s29DzAQj"
      },
      "outputs": [],
      "source": [
        "train_features_flat = train_features.reshape(train_features.shape[0], -1)\n",
        "test_features_flat = test_features.reshape(test_features.shape[0], -1)"
      ]
    },
    {
      "cell_type": "code",
      "execution_count": 9,
      "metadata": {
        "id": "0eOf2WpEzFBN",
        "colab": {
          "base_uri": "https://localhost:8080/"
        },
        "outputId": "f37e081d-b5f4-485d-c683-f63a5ffe3b96"
      },
      "outputs": [
        {
          "output_type": "execute_result",
          "data": {
            "text/plain": [
              "(432, 25088)"
            ]
          },
          "metadata": {},
          "execution_count": 9
        }
      ],
      "source": [
        "train_features_flat.shape"
      ]
    },
    {
      "cell_type": "code",
      "source": [
        "test_features_flat.shape"
      ],
      "metadata": {
        "id": "jv3yJHS_Flzx",
        "colab": {
          "base_uri": "https://localhost:8080/"
        },
        "outputId": "a57e9af4-f960-4289-892e-ba9b1f3a811f"
      },
      "execution_count": 10,
      "outputs": [
        {
          "output_type": "execute_result",
          "data": {
            "text/plain": [
              "(111, 25088)"
            ]
          },
          "metadata": {},
          "execution_count": 10
        }
      ]
    },
    {
      "cell_type": "code",
      "execution_count": 11,
      "metadata": {
        "id": "HSJcYg5Sz2dQ"
      },
      "outputs": [],
      "source": [
        "import numpy as np\n",
        "from sklearn.decomposition import PCA\n",
        "from sklearn.decomposition import SparsePCA\n",
        "# from sklearn.manifold import TSNE"
      ]
    },
    {
      "cell_type": "code",
      "execution_count": 12,
      "metadata": {
        "id": "Xce-7TjLzG4i"
      },
      "outputs": [],
      "source": [
        "n_components = 32\n",
        "\n",
        "# Apply PCA\n",
        "pca = PCA(n_components=n_components)\n",
        "train_features_reshaped = pca.fit_transform(train_features_flat)\n",
        "\n",
        "# # Sparse PCA\n",
        "# sparse_pca = SparsePCA(n_components=n_components, alpha=10)\n",
        "# train_features_reshaped = sparse_pca.fit_transform(train_features_flat)\n",
        "\n",
        "# tsne = TSNE(n_components = n_components)\n",
        "# train_features_reshaped = tsne.fit_transform(train_features_flat)\n",
        "\n"
      ]
    },
    {
      "cell_type": "code",
      "execution_count": 13,
      "metadata": {
        "id": "eZtjgQz6zrKb"
      },
      "outputs": [],
      "source": [
        "n_components = 32\n",
        "\n",
        "# Apply PCA\n",
        "pca = PCA(n_components=n_components)\n",
        "test_features_reshaped = pca.fit_transform(test_features_flat)\n",
        "\n",
        "# sparse_pca = SparsePCA(n_components=n_components, alpha=10)\n",
        "# test_features_reshaped = sparse_pca.fit_transform(test_features_flat)\n",
        "\n",
        "# tsne = TSNE(n_components = n_components)\n",
        "# test_features_reshaped = tsne.fit_transform(test_features_flat)"
      ]
    },
    {
      "cell_type": "code",
      "execution_count": 14,
      "metadata": {
        "id": "SJXxn18tz4Ls",
        "colab": {
          "base_uri": "https://localhost:8080/"
        },
        "outputId": "36fbdfd7-b404-4aaa-a8d8-79d00bd78ee9"
      },
      "outputs": [
        {
          "output_type": "execute_result",
          "data": {
            "text/plain": [
              "(432, 32)"
            ]
          },
          "metadata": {},
          "execution_count": 14
        }
      ],
      "source": [
        "train_features_reshaped.shape"
      ]
    },
    {
      "cell_type": "code",
      "source": [
        "test_features_reshaped.shape"
      ],
      "metadata": {
        "id": "CgxTHgHbHA4_",
        "colab": {
          "base_uri": "https://localhost:8080/"
        },
        "outputId": "177aba42-904a-4235-be0b-5d06808c38ba"
      },
      "execution_count": 15,
      "outputs": [
        {
          "output_type": "execute_result",
          "data": {
            "text/plain": [
              "(111, 32)"
            ]
          },
          "metadata": {},
          "execution_count": 15
        }
      ]
    },
    {
      "cell_type": "code",
      "execution_count": 26,
      "metadata": {
        "id": "EsCXvChsz6n7",
        "colab": {
          "base_uri": "https://localhost:8080/"
        },
        "outputId": "0b4db31e-0de6-41dc-caa8-1f0f82af970b"
      },
      "outputs": [
        {
          "output_type": "stream",
          "name": "stdout",
          "text": [
            "Epoch 1/100\n",
            "14/14 [==============================] - 1s 4ms/step - loss: 96.0738 - accuracy: 0.1181\n",
            "Epoch 2/100\n",
            "14/14 [==============================] - 0s 4ms/step - loss: 46.6255 - accuracy: 0.1366\n",
            "Epoch 3/100\n",
            "14/14 [==============================] - 0s 5ms/step - loss: 29.5246 - accuracy: 0.1991\n",
            "Epoch 4/100\n",
            "14/14 [==============================] - 0s 3ms/step - loss: 19.8204 - accuracy: 0.2361\n",
            "Epoch 5/100\n",
            "14/14 [==============================] - 0s 2ms/step - loss: 13.6023 - accuracy: 0.3218\n",
            "Epoch 6/100\n",
            "14/14 [==============================] - 0s 2ms/step - loss: 9.8076 - accuracy: 0.4167\n",
            "Epoch 7/100\n",
            "14/14 [==============================] - 0s 2ms/step - loss: 7.0497 - accuracy: 0.4954\n",
            "Epoch 8/100\n",
            "14/14 [==============================] - 0s 2ms/step - loss: 5.3547 - accuracy: 0.5208\n",
            "Epoch 9/100\n",
            "14/14 [==============================] - 0s 2ms/step - loss: 3.6848 - accuracy: 0.6019\n",
            "Epoch 10/100\n",
            "14/14 [==============================] - 0s 3ms/step - loss: 2.5858 - accuracy: 0.6343\n",
            "Epoch 11/100\n",
            "14/14 [==============================] - 0s 3ms/step - loss: 1.7648 - accuracy: 0.7384\n",
            "Epoch 12/100\n",
            "14/14 [==============================] - 0s 2ms/step - loss: 1.2526 - accuracy: 0.8032\n",
            "Epoch 13/100\n",
            "14/14 [==============================] - 0s 2ms/step - loss: 0.9219 - accuracy: 0.8380\n",
            "Epoch 14/100\n",
            "14/14 [==============================] - 0s 2ms/step - loss: 0.6834 - accuracy: 0.8773\n",
            "Epoch 15/100\n",
            "14/14 [==============================] - 0s 2ms/step - loss: 0.5132 - accuracy: 0.9005\n",
            "Epoch 16/100\n",
            "14/14 [==============================] - 0s 2ms/step - loss: 0.3743 - accuracy: 0.9329\n",
            "Epoch 17/100\n",
            "14/14 [==============================] - 0s 2ms/step - loss: 0.2857 - accuracy: 0.9468\n",
            "Epoch 18/100\n",
            "14/14 [==============================] - 0s 2ms/step - loss: 0.2174 - accuracy: 0.9653\n",
            "Epoch 19/100\n",
            "14/14 [==============================] - 0s 3ms/step - loss: 0.1721 - accuracy: 0.9653\n",
            "Epoch 20/100\n",
            "14/14 [==============================] - 0s 2ms/step - loss: 0.1394 - accuracy: 0.9653\n",
            "Epoch 21/100\n",
            "14/14 [==============================] - 0s 2ms/step - loss: 0.1096 - accuracy: 0.9792\n",
            "Epoch 22/100\n",
            "14/14 [==============================] - 0s 2ms/step - loss: 0.0859 - accuracy: 0.9792\n",
            "Epoch 23/100\n",
            "14/14 [==============================] - 0s 2ms/step - loss: 0.0708 - accuracy: 0.9815\n",
            "Epoch 24/100\n",
            "14/14 [==============================] - 0s 2ms/step - loss: 0.0576 - accuracy: 0.9884\n",
            "Epoch 25/100\n",
            "14/14 [==============================] - 0s 3ms/step - loss: 0.0500 - accuracy: 0.9907\n",
            "Epoch 26/100\n",
            "14/14 [==============================] - 0s 2ms/step - loss: 0.0436 - accuracy: 0.9907\n",
            "Epoch 27/100\n",
            "14/14 [==============================] - 0s 3ms/step - loss: 0.0385 - accuracy: 0.9954\n",
            "Epoch 28/100\n",
            "14/14 [==============================] - 0s 3ms/step - loss: 0.0354 - accuracy: 0.9977\n",
            "Epoch 29/100\n",
            "14/14 [==============================] - 0s 2ms/step - loss: 0.0323 - accuracy: 0.9977\n",
            "Epoch 30/100\n",
            "14/14 [==============================] - 0s 2ms/step - loss: 0.0307 - accuracy: 0.9977\n",
            "Epoch 31/100\n",
            "14/14 [==============================] - 0s 2ms/step - loss: 0.0281 - accuracy: 0.9977\n",
            "Epoch 32/100\n",
            "14/14 [==============================] - 0s 2ms/step - loss: 0.0257 - accuracy: 0.9977\n",
            "Epoch 33/100\n",
            "14/14 [==============================] - 0s 2ms/step - loss: 0.0233 - accuracy: 0.9977\n",
            "Epoch 34/100\n",
            "14/14 [==============================] - 0s 2ms/step - loss: 0.0223 - accuracy: 0.9977\n",
            "Epoch 35/100\n",
            "14/14 [==============================] - 0s 2ms/step - loss: 0.0203 - accuracy: 0.9977\n",
            "Epoch 36/100\n",
            "14/14 [==============================] - 0s 2ms/step - loss: 0.0188 - accuracy: 0.9977\n",
            "Epoch 37/100\n",
            "14/14 [==============================] - 0s 3ms/step - loss: 0.0179 - accuracy: 0.9977\n",
            "Epoch 38/100\n",
            "14/14 [==============================] - 0s 2ms/step - loss: 0.0167 - accuracy: 1.0000\n",
            "Epoch 39/100\n",
            "14/14 [==============================] - 0s 2ms/step - loss: 0.0155 - accuracy: 1.0000\n",
            "Epoch 40/100\n",
            "14/14 [==============================] - 0s 2ms/step - loss: 0.0146 - accuracy: 1.0000\n",
            "Epoch 41/100\n",
            "14/14 [==============================] - 0s 2ms/step - loss: 0.0138 - accuracy: 1.0000\n",
            "Epoch 42/100\n",
            "14/14 [==============================] - 0s 2ms/step - loss: 0.0133 - accuracy: 1.0000\n",
            "Epoch 43/100\n",
            "14/14 [==============================] - 0s 2ms/step - loss: 0.0126 - accuracy: 1.0000\n",
            "Epoch 44/100\n",
            "14/14 [==============================] - 0s 2ms/step - loss: 0.0122 - accuracy: 1.0000\n",
            "Epoch 45/100\n",
            "14/14 [==============================] - 0s 2ms/step - loss: 0.0117 - accuracy: 1.0000\n",
            "Epoch 46/100\n",
            "14/14 [==============================] - 0s 2ms/step - loss: 0.0113 - accuracy: 1.0000\n",
            "Epoch 47/100\n",
            "14/14 [==============================] - 0s 2ms/step - loss: 0.0108 - accuracy: 1.0000\n",
            "Epoch 48/100\n",
            "14/14 [==============================] - 0s 2ms/step - loss: 0.0104 - accuracy: 1.0000\n",
            "Epoch 49/100\n",
            "14/14 [==============================] - 0s 2ms/step - loss: 0.0100 - accuracy: 1.0000\n",
            "Epoch 50/100\n",
            "14/14 [==============================] - 0s 2ms/step - loss: 0.0097 - accuracy: 1.0000\n",
            "Epoch 51/100\n",
            "14/14 [==============================] - 0s 2ms/step - loss: 0.0093 - accuracy: 1.0000\n",
            "Epoch 52/100\n",
            "14/14 [==============================] - 0s 2ms/step - loss: 0.0090 - accuracy: 1.0000\n",
            "Epoch 53/100\n",
            "14/14 [==============================] - 0s 2ms/step - loss: 0.0086 - accuracy: 1.0000\n",
            "Epoch 54/100\n",
            "14/14 [==============================] - 0s 3ms/step - loss: 0.0084 - accuracy: 1.0000\n",
            "Epoch 55/100\n",
            "14/14 [==============================] - 0s 3ms/step - loss: 0.0081 - accuracy: 1.0000\n",
            "Epoch 56/100\n",
            "14/14 [==============================] - 0s 2ms/step - loss: 0.0079 - accuracy: 1.0000\n",
            "Epoch 57/100\n",
            "14/14 [==============================] - 0s 2ms/step - loss: 0.0076 - accuracy: 1.0000\n",
            "Epoch 58/100\n",
            "14/14 [==============================] - 0s 2ms/step - loss: 0.0074 - accuracy: 1.0000\n",
            "Epoch 59/100\n",
            "14/14 [==============================] - 0s 2ms/step - loss: 0.0072 - accuracy: 1.0000\n",
            "Epoch 60/100\n",
            "14/14 [==============================] - 0s 2ms/step - loss: 0.0070 - accuracy: 1.0000\n",
            "Epoch 61/100\n",
            "14/14 [==============================] - 0s 3ms/step - loss: 0.0068 - accuracy: 1.0000\n",
            "Epoch 62/100\n",
            "14/14 [==============================] - 0s 2ms/step - loss: 0.0066 - accuracy: 1.0000\n",
            "Epoch 63/100\n",
            "14/14 [==============================] - 0s 3ms/step - loss: 0.0064 - accuracy: 1.0000\n",
            "Epoch 64/100\n",
            "14/14 [==============================] - 0s 2ms/step - loss: 0.0062 - accuracy: 1.0000\n",
            "Epoch 65/100\n",
            "14/14 [==============================] - 0s 2ms/step - loss: 0.0061 - accuracy: 1.0000\n",
            "Epoch 66/100\n",
            "14/14 [==============================] - 0s 2ms/step - loss: 0.0059 - accuracy: 1.0000\n",
            "Epoch 67/100\n",
            "14/14 [==============================] - 0s 2ms/step - loss: 0.0058 - accuracy: 1.0000\n",
            "Epoch 68/100\n",
            "14/14 [==============================] - 0s 2ms/step - loss: 0.0056 - accuracy: 1.0000\n",
            "Epoch 69/100\n",
            "14/14 [==============================] - 0s 2ms/step - loss: 0.0055 - accuracy: 1.0000\n",
            "Epoch 70/100\n",
            "14/14 [==============================] - 0s 2ms/step - loss: 0.0054 - accuracy: 1.0000\n",
            "Epoch 71/100\n",
            "14/14 [==============================] - 0s 2ms/step - loss: 0.0052 - accuracy: 1.0000\n",
            "Epoch 72/100\n",
            "14/14 [==============================] - 0s 2ms/step - loss: 0.0051 - accuracy: 1.0000\n",
            "Epoch 73/100\n",
            "14/14 [==============================] - 0s 2ms/step - loss: 0.0050 - accuracy: 1.0000\n",
            "Epoch 74/100\n",
            "14/14 [==============================] - 0s 2ms/step - loss: 0.0048 - accuracy: 1.0000\n",
            "Epoch 75/100\n",
            "14/14 [==============================] - 0s 2ms/step - loss: 0.0048 - accuracy: 1.0000\n",
            "Epoch 76/100\n",
            "14/14 [==============================] - 0s 2ms/step - loss: 0.0046 - accuracy: 1.0000\n",
            "Epoch 77/100\n",
            "14/14 [==============================] - 0s 2ms/step - loss: 0.0045 - accuracy: 1.0000\n",
            "Epoch 78/100\n",
            "14/14 [==============================] - 0s 3ms/step - loss: 0.0044 - accuracy: 1.0000\n",
            "Epoch 79/100\n",
            "14/14 [==============================] - 0s 2ms/step - loss: 0.0043 - accuracy: 1.0000\n",
            "Epoch 80/100\n",
            "14/14 [==============================] - 0s 2ms/step - loss: 0.0042 - accuracy: 1.0000\n",
            "Epoch 81/100\n",
            "14/14 [==============================] - 0s 2ms/step - loss: 0.0041 - accuracy: 1.0000\n",
            "Epoch 82/100\n",
            "14/14 [==============================] - 0s 2ms/step - loss: 0.0040 - accuracy: 1.0000\n",
            "Epoch 83/100\n",
            "14/14 [==============================] - 0s 3ms/step - loss: 0.0039 - accuracy: 1.0000\n",
            "Epoch 84/100\n",
            "14/14 [==============================] - 0s 2ms/step - loss: 0.0038 - accuracy: 1.0000\n",
            "Epoch 85/100\n",
            "14/14 [==============================] - 0s 2ms/step - loss: 0.0037 - accuracy: 1.0000\n",
            "Epoch 86/100\n",
            "14/14 [==============================] - 0s 2ms/step - loss: 0.0037 - accuracy: 1.0000\n",
            "Epoch 87/100\n",
            "14/14 [==============================] - 0s 2ms/step - loss: 0.0036 - accuracy: 1.0000\n",
            "Epoch 88/100\n",
            "14/14 [==============================] - 0s 3ms/step - loss: 0.0035 - accuracy: 1.0000\n",
            "Epoch 89/100\n",
            "14/14 [==============================] - 0s 3ms/step - loss: 0.0034 - accuracy: 1.0000\n",
            "Epoch 90/100\n",
            "14/14 [==============================] - 0s 2ms/step - loss: 0.0034 - accuracy: 1.0000\n",
            "Epoch 91/100\n",
            "14/14 [==============================] - 0s 2ms/step - loss: 0.0033 - accuracy: 1.0000\n",
            "Epoch 92/100\n",
            "14/14 [==============================] - 0s 2ms/step - loss: 0.0032 - accuracy: 1.0000\n",
            "Epoch 93/100\n",
            "14/14 [==============================] - 0s 2ms/step - loss: 0.0032 - accuracy: 1.0000\n",
            "Epoch 94/100\n",
            "14/14 [==============================] - 0s 2ms/step - loss: 0.0031 - accuracy: 1.0000\n",
            "Epoch 95/100\n",
            "14/14 [==============================] - 0s 2ms/step - loss: 0.0030 - accuracy: 1.0000\n",
            "Epoch 96/100\n",
            "14/14 [==============================] - 0s 2ms/step - loss: 0.0030 - accuracy: 1.0000\n",
            "Epoch 97/100\n",
            "14/14 [==============================] - 0s 2ms/step - loss: 0.0029 - accuracy: 1.0000\n",
            "Epoch 98/100\n",
            "14/14 [==============================] - 0s 2ms/step - loss: 0.0029 - accuracy: 1.0000\n",
            "Epoch 99/100\n",
            "14/14 [==============================] - 0s 3ms/step - loss: 0.0028 - accuracy: 1.0000\n",
            "Epoch 100/100\n",
            "14/14 [==============================] - 0s 2ms/step - loss: 0.0028 - accuracy: 1.0000\n"
          ]
        },
        {
          "output_type": "execute_result",
          "data": {
            "text/plain": [
              "<keras.src.callbacks.History at 0x783d13bed720>"
            ]
          },
          "metadata": {},
          "execution_count": 26
        }
      ],
      "source": [
        "# ANN\n",
        "from keras.utils import to_categorical\n",
        "from tensorflow import keras\n",
        "from tensorflow.keras import layers\n",
        "\n",
        "# model = Sequential()\n",
        "# model.add(Flatten(input_shape=train_features.shape[1]))\n",
        "# model.add(Dense(256, activation='relu'))\n",
        "# model.add(Dense(3, activation='sigmoid'))\n",
        "\n",
        "model = keras.Sequential([\n",
        "    layers.Input(shape=train_features_reshaped.shape[1]),\n",
        "    layers.Dense(128, activation='relu'),\n",
        "    layers.Dense(64, activation='relu'),\n",
        "    layers.Dense(10, activation='softmax')\n",
        "])\n",
        "\n",
        "sgd = tf.keras.optimizers.SGD(learning_rate=0.01)\n",
        "\n",
        "model.compile(loss='categorical_crossentropy', optimizer=Adam(), metrics=['accuracy'])\n",
        "\n",
        "train_labels = to_categorical(train_generator.labels, num_classes=10)\n",
        "test_labels = to_categorical(test_generator.labels, num_classes=10)\n",
        "\n",
        "# Train the model on the extracted features\n",
        "model.fit(train_features_reshaped, train_labels, epochs=100, batch_size=32)"
      ]
    },
    {
      "cell_type": "code",
      "execution_count": 27,
      "metadata": {
        "id": "FOWkA-ST0FGg",
        "colab": {
          "base_uri": "https://localhost:8080/"
        },
        "outputId": "cd19ac6e-861e-458f-e9e9-4cfc8cb46e58"
      },
      "outputs": [
        {
          "output_type": "stream",
          "name": "stdout",
          "text": [
            "4/4 [==============================] - 0s 3ms/step\n",
            "Confusion Matrix:\n",
            "[[1 1 1 1 0 3 1 0 2 2]\n",
            " [1 1 2 2 0 0 1 0 2 3]\n",
            " [0 0 1 3 0 0 3 1 2 2]\n",
            " [1 1 0 1 0 4 1 1 1 2]\n",
            " [0 0 2 2 0 0 1 1 2 1]\n",
            " [2 3 2 1 1 0 0 0 0 0]\n",
            " [2 0 1 2 1 3 1 0 0 1]\n",
            " [0 0 2 2 1 2 0 1 0 2]\n",
            " [0 0 0 1 3 2 1 0 4 1]\n",
            " [0 1 2 0 0 1 1 5 1 1]]\n",
            "Classification Report:\n",
            "                            precision    recall  f1-score   support\n",
            "\n",
            "001.Black_footed_Albatross       0.14      0.08      0.11        12\n",
            "      002.Laysan_Albatross       0.14      0.08      0.11        12\n",
            "       003.Sooty_Albatross       0.08      0.08      0.08        12\n",
            "     004.Groove_billed_Ani       0.07      0.08      0.07        12\n",
            "        005.Crested_Auklet       0.00      0.00      0.00         9\n",
            "          006.Least_Auklet       0.00      0.00      0.00         9\n",
            "       007.Parakeet_Auklet       0.10      0.09      0.10        11\n",
            "     008.Rhinoceros_Auklet       0.11      0.10      0.11        10\n",
            "      009.Brewer_Blackbird       0.29      0.33      0.31        12\n",
            "  010.Red_winged_Blackbird       0.07      0.08      0.07        12\n",
            "\n",
            "                  accuracy                           0.10       111\n",
            "                 macro avg       0.10      0.09      0.09       111\n",
            "              weighted avg       0.10      0.10      0.10       111\n",
            "\n"
          ]
        }
      ],
      "source": [
        "y_pred = model.predict(test_features_reshaped)\n",
        "y_pred = np.argmax(y_pred, axis=1)\n",
        "\n",
        "y_true = test_generator.classes\n",
        "\n",
        "cm = confusion_matrix(y_true, y_pred)\n",
        "print('Confusion Matrix:')\n",
        "print(cm)\n",
        "\n",
        "class_names = list(test_generator.class_indices.keys())\n",
        "report = classification_report(y_true, y_pred, target_names=class_names)\n",
        "print('Classification Report:')\n",
        "print(report)\n",
        "\n",
        "#model.save(\"/content/drive/My Drive/OCR/Stimulation/ANN.keras\")"
      ]
    },
    {
      "cell_type": "code",
      "execution_count": 28,
      "metadata": {
        "id": "Wf5s8YLF0cT-"
      },
      "outputs": [],
      "source": [
        "# Random Forest\n",
        "import numpy as np\n",
        "from sklearn.ensemble import RandomForestClassifier\n",
        "from sklearn.model_selection import train_test_split\n",
        "from sklearn.metrics import accuracy_score\n",
        "\n",
        "train_labels_rf = train_generator.labels\n",
        "test_labels_rf = test_generator.labels\n",
        "\n",
        "rf_classifier = RandomForestClassifier(n_estimators=100, random_state=42)\n",
        "rf_classifier.fit(train_features_reshaped, train_labels_rf)\n",
        "\n",
        "y_pred = rf_classifier.predict(test_features_reshaped)"
      ]
    },
    {
      "cell_type": "code",
      "execution_count": 29,
      "metadata": {
        "id": "0PQaIU9G6BTy",
        "colab": {
          "base_uri": "https://localhost:8080/"
        },
        "outputId": "286506fe-09f6-4649-82d2-012ccd40904f"
      },
      "outputs": [
        {
          "output_type": "stream",
          "name": "stdout",
          "text": [
            "Accuracy: 0.10\n",
            "Classification Report:\n",
            "               precision    recall  f1-score   support\n",
            "\n",
            "           0       0.09      0.17      0.12        12\n",
            "           1       0.12      0.17      0.14        12\n",
            "           2       0.29      0.42      0.34        12\n",
            "           3       0.05      0.08      0.06        12\n",
            "           4       0.00      0.00      0.00         9\n",
            "           5       0.00      0.00      0.00         9\n",
            "           6       0.00      0.00      0.00        11\n",
            "           7       0.00      0.00      0.00        10\n",
            "           8       0.11      0.08      0.10        12\n",
            "           9       0.00      0.00      0.00        12\n",
            "\n",
            "    accuracy                           0.10       111\n",
            "   macro avg       0.07      0.09      0.08       111\n",
            "weighted avg       0.07      0.10      0.08       111\n",
            "\n",
            "Confusion Matrix:\n",
            " [[2 2 1 1 0 0 2 1 1 2]\n",
            " [1 2 2 4 0 0 1 1 1 0]\n",
            " [2 0 5 1 0 0 0 1 2 1]\n",
            " [5 2 0 1 0 0 1 0 1 2]\n",
            " [1 1 3 3 0 0 0 0 1 0]\n",
            " [2 3 2 2 0 0 0 0 0 0]\n",
            " [1 4 0 1 1 0 0 0 1 3]\n",
            " [2 0 0 3 1 0 0 0 0 4]\n",
            " [3 2 1 2 0 0 2 0 1 1]\n",
            " [3 1 3 2 0 0 1 1 1 0]]\n"
          ]
        },
        {
          "output_type": "stream",
          "name": "stderr",
          "text": [
            "/usr/local/lib/python3.10/dist-packages/sklearn/metrics/_classification.py:1344: UndefinedMetricWarning: Precision and F-score are ill-defined and being set to 0.0 in labels with no predicted samples. Use `zero_division` parameter to control this behavior.\n",
            "  _warn_prf(average, modifier, msg_start, len(result))\n",
            "/usr/local/lib/python3.10/dist-packages/sklearn/metrics/_classification.py:1344: UndefinedMetricWarning: Precision and F-score are ill-defined and being set to 0.0 in labels with no predicted samples. Use `zero_division` parameter to control this behavior.\n",
            "  _warn_prf(average, modifier, msg_start, len(result))\n",
            "/usr/local/lib/python3.10/dist-packages/sklearn/metrics/_classification.py:1344: UndefinedMetricWarning: Precision and F-score are ill-defined and being set to 0.0 in labels with no predicted samples. Use `zero_division` parameter to control this behavior.\n",
            "  _warn_prf(average, modifier, msg_start, len(result))\n"
          ]
        }
      ],
      "source": [
        "from sklearn.metrics import accuracy_score, classification_report, confusion_matrix\n",
        "\n",
        "# Calculate accuracy\n",
        "accuracy = accuracy_score(test_labels_rf, y_pred)\n",
        "print(f'Accuracy: {accuracy:.2f}')\n",
        "\n",
        "# Generate and print a classification report\n",
        "report = classification_report(test_labels_rf, y_pred)\n",
        "print(\"Classification Report:\\n\", report)\n",
        "\n",
        "# Generate and print a confusion matrix\n",
        "conf_matrix = confusion_matrix(test_labels_rf, y_pred)\n",
        "print(\"Confusion Matrix:\\n\", conf_matrix)\n"
      ]
    }
  ],
  "metadata": {
    "accelerator": "GPU",
    "colab": {
      "provenance": [],
      "gpuType": "T4"
    },
    "kernelspec": {
      "display_name": "Python 3",
      "name": "python3"
    },
    "language_info": {
      "name": "python"
    }
  },
  "nbformat": 4,
  "nbformat_minor": 0
}