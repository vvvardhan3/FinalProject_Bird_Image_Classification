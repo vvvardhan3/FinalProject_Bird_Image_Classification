{
  "nbformat": 4,
  "nbformat_minor": 0,
  "metadata": {
    "colab": {
      "provenance": [],
      "gpuType": "T4"
    },
    "kernelspec": {
      "name": "python3",
      "display_name": "Python 3"
    },
    "language_info": {
      "name": "python"
    },
    "accelerator": "GPU"
  },
  "cells": [
    {
      "cell_type": "code",
      "source": [
        "import tensorflow as tf\n",
        "from tensorflow.keras import layers, Model\n",
        "from tensorflow.keras.preprocessing.image import ImageDataGenerator"
      ],
      "metadata": {
        "id": "r7JoImourSBh"
      },
      "execution_count": 31,
      "outputs": []
    },
    {
      "cell_type": "code",
      "source": [
        "# Define custom InceptionV3 model\n",
        "def custom_inceptionv3(input_shape=(224, 224, 3), num_classes=5):\n",
        "    input_tensor = layers.Input(shape=input_shape)\n",
        "\n",
        "    # Stem\n",
        "    x = layers.Conv2D(32, (3, 3), strides=(2, 2), padding='valid', activation='relu')(input_tensor)\n",
        "    x = layers.Conv2D(32, (3, 3), padding='valid', activation='relu')(x)\n",
        "    x = layers.Conv2D(64, (3, 3), padding='same', activation='relu')(x)\n",
        "    x = layers.MaxPooling2D((3, 3), strides=(2, 2))(x)\n",
        "\n",
        "    x = layers.Conv2D(80, (1, 1), padding='valid', activation='relu')(x)\n",
        "    x = layers.Conv2D(192, (3, 3), padding='valid', activation='relu')(x)\n",
        "    x = layers.MaxPooling2D((3, 3), strides=(2, 2))(x)\n",
        "\n",
        "    # Inception blocks\n",
        "    x = inception_block(x, filters=[64, 96, 128, 16, 32, 32])\n",
        "    x = inception_block(x, filters=[128, 128, 192, 32, 96, 64])\n",
        "    x = layers.MaxPooling2D((3, 3), strides=(2, 2))(x)\n",
        "\n",
        "    x = inception_block(x, filters=[192, 96, 208, 16, 48, 64])\n",
        "    x = inception_block(x, filters=[160, 112, 224, 24, 64, 64])\n",
        "    x = inception_block(x, filters=[128, 128, 256, 24, 64, 64])\n",
        "    x = inception_block(x, filters=[112, 144, 288, 32, 64, 64])\n",
        "    x = inception_block(x, filters=[256, 160, 320, 32, 128, 128])\n",
        "    x = layers.MaxPooling2D((3, 3), strides=(2, 2))(x)\n",
        "\n",
        "    x = inception_block(x, filters=[256, 160, 320, 32, 128, 128])\n",
        "    x = inception_block(x, filters=[384, 192, 384, 48, 128, 128])\n",
        "\n",
        "    # Global average pooling and output layer\n",
        "    x = layers.GlobalAveragePooling2D()(x)\n",
        "    # x = layers.Dropout(0.4)(x)\n",
        "    output = layers.Dense(num_classes, activation='softmax')(x)\n",
        "\n",
        "    # Create model\n",
        "    model = Model(input_tensor, output, name='custom_inceptionv3')\n",
        "    return model\n",
        "\n",
        "# Define Inception block\n",
        "def inception_block(x, filters):\n",
        "    branch1x1 = layers.Conv2D(filters[0], (1, 1), padding='same', activation='relu')(x)\n",
        "\n",
        "    branch3x3 = layers.Conv2D(filters[1], (1, 1), padding='same', activation='relu')(x)\n",
        "    branch3x3 = layers.Conv2D(filters[2], (3, 3), padding='same', activation='relu')(branch3x3)\n",
        "\n",
        "    branch5x5 = layers.Conv2D(filters[3], (1, 1), padding='same', activation='relu')(x)\n",
        "    branch5x5 = layers.Conv2D(filters[4], (5, 5), padding='same', activation='relu')(branch5x5)\n",
        "\n",
        "    branch_pool = layers.MaxPooling2D((3, 3), strides=(1, 1), padding='same')(x)\n",
        "    branch_pool = layers.Conv2D(filters[5], (1, 1), padding='same', activation='relu')(branch_pool)\n",
        "\n",
        "    return layers.concatenate([branch1x1, branch3x3, branch5x5, branch_pool], axis=-1)"
      ],
      "metadata": {
        "id": "-qE9qZAddSkj"
      },
      "execution_count": 32,
      "outputs": []
    },
    {
      "cell_type": "code",
      "execution_count": 33,
      "metadata": {
        "colab": {
          "base_uri": "https://localhost:8080/"
        },
        "id": "VRohlIrBq-Od",
        "outputId": "090503f6-dba5-4202-f239-91825bc31690"
      },
      "outputs": [
        {
          "output_type": "stream",
          "name": "stdout",
          "text": [
            "Found 200 images belonging to 5 classes.\n",
            "Found 88 images belonging to 5 classes.\n"
          ]
        }
      ],
      "source": [
        "# Instantiate the custom InceptionV3 model\n",
        "model = custom_inceptionv3()\n",
        "\n",
        "# Compile the model\n",
        "model.compile(optimizer='adam', loss='categorical_crossentropy', metrics=['accuracy'])\n",
        "\n",
        "# Display model architecture\n",
        "# model.summary()\n",
        "\n",
        "# Paths to your train and test directories\n",
        "train_dir = '/content/drive/MyDrive/Project_Data_Set/train'\n",
        "test_dir = '/content/drive/MyDrive/Project_Data_Set/test'\n",
        "\n",
        "# Image dimensions\n",
        "img_height, img_width = 224, 224\n",
        "batch_size = 32\n",
        "\n",
        "# Create data generators\n",
        "train_datagen = ImageDataGenerator(\n",
        "    rescale=1./255)\n",
        "\n",
        "test_datagen = ImageDataGenerator(rescale=1./255)\n",
        "\n",
        "train_generator = train_datagen.flow_from_directory(\n",
        "    train_dir,\n",
        "    target_size=(img_height, img_width),\n",
        "    batch_size=batch_size,\n",
        "    class_mode='categorical')\n",
        "\n",
        "validation_generator = test_datagen.flow_from_directory(\n",
        "    test_dir,\n",
        "    target_size=(img_height, img_width),\n",
        "    batch_size=batch_size,\n",
        "    class_mode='categorical')\n"
      ]
    },
    {
      "cell_type": "code",
      "source": [
        "# Train the model\n",
        "history = model.fit(train_generator,\n",
        "                    steps_per_epoch=len(train_generator),\n",
        "                    epochs=5,\n",
        "                    validation_data=validation_generator,\n",
        "                    validation_steps=len(validation_generator))"
      ],
      "metadata": {
        "colab": {
          "base_uri": "https://localhost:8080/"
        },
        "id": "KnjU2NNMredG",
        "outputId": "a52dbe6f-5b96-48ef-b0d4-d441d8add968"
      },
      "execution_count": 34,
      "outputs": [
        {
          "output_type": "stream",
          "name": "stdout",
          "text": [
            "Epoch 1/5\n",
            "7/7 [==============================] - 77s 9s/step - loss: 1.6118 - accuracy: 0.1850 - val_loss: 1.6089 - val_accuracy: 0.2045\n",
            "Epoch 2/5\n",
            "7/7 [==============================] - 64s 9s/step - loss: 1.6099 - accuracy: 0.1900 - val_loss: 1.6086 - val_accuracy: 0.2045\n",
            "Epoch 3/5\n",
            "7/7 [==============================] - 61s 9s/step - loss: 1.6089 - accuracy: 0.2050 - val_loss: 1.6088 - val_accuracy: 0.2045\n",
            "Epoch 4/5\n",
            "7/7 [==============================] - 59s 9s/step - loss: 1.6089 - accuracy: 0.2150 - val_loss: 1.6087 - val_accuracy: 0.2045\n",
            "Epoch 5/5\n",
            "7/7 [==============================] - 61s 9s/step - loss: 1.6084 - accuracy: 0.2100 - val_loss: 1.6073 - val_accuracy: 0.2045\n"
          ]
        }
      ]
    },
    {
      "cell_type": "code",
      "source": [
        "# Extract training and validation accuracy from history\n",
        "training_accuracy = (history.history['accuracy'][-1] * 100)\n",
        "validation_accuracy = (history.history['val_accuracy'][-1] * 100)\n",
        "\n",
        "print(f\"Training Accuracy: {training_accuracy}\")\n",
        "print(f\"Validation Accuracy: {validation_accuracy}\")"
      ],
      "metadata": {
        "colab": {
          "base_uri": "https://localhost:8080/"
        },
        "id": "_mrUyOSXrJwW",
        "outputId": "a0e38687-5802-496c-d4f2-4e24ccf8c936"
      },
      "execution_count": 35,
      "outputs": [
        {
          "output_type": "stream",
          "name": "stdout",
          "text": [
            "Training Accuracy: 20.999999344348907\n",
            "Validation Accuracy: 20.454545319080353\n"
          ]
        }
      ]
    },
    {
      "cell_type": "code",
      "source": [
        "import numpy as np\n",
        "from keras.preprocessing import image\n",
        "\n",
        "# Load the image\n",
        "img_path = '/content/drive/MyDrive/Project_Data_Set/train/Groove_billed_Ani/Groove_Billed_Ani_0015_1653.jpg'\n",
        "img = image.load_img(img_path, target_size=(img_height, img_width))\n",
        "\n",
        "# Preprocess the image\n",
        "img_array = image.img_to_array(img)\n",
        "img_array = np.expand_dims(img_array, axis=0)\n",
        "img_array /= 255.  # Normalize the image\n",
        "\n",
        "# Make predictions\n",
        "predictions = model.predict(img_array)\n",
        "\n",
        "# Get the predicted class\n",
        "predicted_class = np.argmax(predictions[0])\n",
        "\n",
        "# If you have ground truth labels, compare with the ground truth to compute accuracy\n",
        "ground_truth =[0,1,2,3,4]# Provide the ground truth label here\n",
        "accuracy = (predicted_class == ground_truth)\n",
        "\n",
        "# Print the predicted class and probability\n",
        "print(\"Predicted Class:\", predicted_class)\n",
        "print(\"Predicted Probability:\", predictions[0][predicted_class])\n",
        "\n",
        "# If you have ground truth labels, print accuracy\n",
        "print(\"Prediction Accuracy:\", accuracy)\n"
      ],
      "metadata": {
        "id": "uPrjPhvMrj7M",
        "colab": {
          "base_uri": "https://localhost:8080/"
        },
        "outputId": "d15ff253-cb7a-4131-a731-bdb6813ae125"
      },
      "execution_count": 41,
      "outputs": [
        {
          "output_type": "stream",
          "name": "stdout",
          "text": [
            "1/1 [==============================] - 0s 85ms/step\n",
            "Predicted Class: 3\n",
            "Predicted Probability: 0.21063916\n",
            "Prediction Accuracy: [False False False  True False]\n"
          ]
        }
      ]
    },
    {
      "cell_type": "code",
      "source": [],
      "metadata": {
        "id": "iTcA0Z4hg7aP"
      },
      "execution_count": 28,
      "outputs": []
    }
  ]
}